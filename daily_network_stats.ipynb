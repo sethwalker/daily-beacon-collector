{
 "cells": [
  {
   "cell_type": "code",
   "execution_count": 73,
   "id": "93770a4b-9249-4d79-9ad0-163a0cf6aae8",
   "metadata": {},
   "outputs": [
    {
     "data": {
      "application/vnd.jupyter.widget-view+json": {
       "model_id": "1b702367da334c7b92cc22bf333dd52e",
       "version_major": 2,
       "version_minor": 0
      },
      "text/plain": [
       "interactive(children=(Dropdown(description='room', options=('https://sethwalker.daily.co/meet-seth e234c5a0-07…"
      ]
     },
     "metadata": {},
     "output_type": "display_data"
    }
   ],
   "source": [
    "import pandas\n",
    "import json\n",
    "import plotly.express as px\n",
    "from ipywidgets import interact\n",
    "\n",
    "with open('beacon.log') as f:\n",
    "    lines = [json.loads(line) for line in f.readlines()]\n",
    "\n",
    "data = pandas.json_normalize(lines)\n",
    "data['time'] = pandas.to_datetime(data['stats.latest.timestamp'])\n",
    "\n",
    "# identify unique calls by room url and meeting session id combination \n",
    "data['call'] = data['room'].astype(str) + ' ' + data['meetingSessionId']\n",
    "calls = data['call'].unique()\n",
    "\n",
    "@interact\n",
    "def displayCallStats(room=calls):\n",
    "    # select data based on the dropdown\n",
    "    roomData = data[data[\"call\"] == room]\n",
    "\n",
    "    # show time series scatter plot and histogram for each of send/recv/videoSend/videoRecv\n",
    "\n",
    "    sendBitsScatter = px.scatter(roomData, x='time', y='stats.latest.sendBitsPerSecond', facet_col='sessionId')\n",
    "    sendBitsScatter.show()\n",
    "\n",
    "    sendBitsHist = px.histogram(roomData, x='stats.latest.sendBitsPerSecond', nbins=20, facet_col='sessionId')\n",
    "    sendBitsHist.show()\n",
    "\n",
    "    recvBitsScatter = px.scatter(roomData, x='time', y='stats.latest.recvBitsPerSecond', facet_col='sessionId')\n",
    "    recvBitsScatter.show()\n",
    "\n",
    "    recvBitsHist = px.histogram(roomData, x='stats.latest.recvBitsPerSecond', nbins=20, facet_col='sessionId')\n",
    "    recvBitsHist.show()\n",
    "\n",
    "    sendVideoBitsScatter = px.scatter(roomData, x='time', y='stats.latest.videoSendBitsPerSecond', facet_col='sessionId')\n",
    "    sendVideoBitsScatter.show()\n",
    "\n",
    "    sendVideoBitsHist = px.histogram(roomData, x='stats.latest.videoSendBitsPerSecond', nbins=20, facet_col='sessionId')\n",
    "    sendVideoBitsHist.show()\n",
    "\n",
    "    recvVideoBitsScatter = px.scatter(roomData, x='time', y='stats.latest.videoRecvBitsPerSecond', facet_col='sessionId')\n",
    "    recvVideoBitsScatter.show()\n",
    "\n",
    "    recvVideoBitsHist = px.histogram(roomData, x='stats.latest.videoRecvBitsPerSecond', nbins=20, facet_col='sessionId')\n",
    "    recvVideoBitsHist.show()\n",
    "\n",
    "    # include summary data\n",
    "    data.describe()"
   ]
  }
 ],
 "metadata": {
  "kernelspec": {
   "display_name": "Python 3 (ipykernel)",
   "language": "python",
   "name": "python3"
  },
  "language_info": {
   "codemirror_mode": {
    "name": "ipython",
    "version": 3
   },
   "file_extension": ".py",
   "mimetype": "text/x-python",
   "name": "python",
   "nbconvert_exporter": "python",
   "pygments_lexer": "ipython3",
   "version": "3.9.6"
  }
 },
 "nbformat": 4,
 "nbformat_minor": 5
}
